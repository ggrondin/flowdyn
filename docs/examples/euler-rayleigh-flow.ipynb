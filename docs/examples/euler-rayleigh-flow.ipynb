{
 "cells": [
  {
   "cell_type": "code",
   "execution_count": 1,
   "metadata": {},
   "outputs": [],
   "source": [
    "import time\n",
    "import matplotlib.pyplot as plt\n",
    "import numpy as np \n",
    "%matplotlib inline\n",
    "from flowdyn.mesh  import *\n",
    "from flowdyn.xnum  import *\n",
    "from flowdyn.integration import *\n",
    "import flowdyn.modelphy.euler as euler\n",
    "import flowdyn.modeldisc      as modeldisc\n",
    "#\n",
    "plt.rcParams['figure.dpi'] = 100\n",
    "plt.rcParams['savefig.dpi'] = 100\n",
    "plt.rcParams[\"animation.html\"] = \"jshtml\"  # for matplotlib 2.1 and above, uses JavaScript"
   ]
  },
  {
   "source": [
    "### Theoretical computation of needed power with `aerokit`"
   ],
   "cell_type": "markdown",
   "metadata": {}
  },
  {
   "cell_type": "code",
   "execution_count": 2,
   "metadata": {},
   "outputs": [
    {
     "output_type": "stream",
     "name": "stdout",
     "text": [
      "5.751213860870039 2.2040855280805833 8.468636339826547\n"
     ]
    }
   ],
   "source": [
    "import aerokit.aero.Isentropic as Is\n",
    "import aerokit.aero.MassFlow   as mf\n",
    "import aerokit.aero.Rayleigh   as ray\n",
    "#\n",
    "M0 = .2   # expected upstream Mach number\n",
    "M1 = .95  # expected downstream Mach number\n",
    "#\n",
    "rTt0 = 1.\n",
    "p1   = 1.\n",
    "Tt_ratio = ray.Ti_Ticri(M1)/ray.Ti_Ticri(M0)\n",
    "Pt_ratio = ray.Pi_Picri(M1)/ray.Pi_Picri(M0)\n",
    "NPR      = Is.PiPs_Mach(M1) / Pt_ratio\n",
    "Power    = 3.5*(Tt_ratio-1.)*rTt0*(NPR*p1/np.sqrt(rTt0)*mf.WeightMassFlow(M0))\n",
    "print(Tt_ratio, NPR, Power)"
   ]
  },
  {
   "cell_type": "code",
   "execution_count": null,
   "metadata": {},
   "outputs": [],
   "source": [
    "nx = 100\n",
    "lx = 6.\n",
    "meshsim  = unimesh(ncell=nx,  length=10.)\n",
    "\n",
    "def fenergy(x, q):\n",
    "    return +Power/lx*(x>2.)*(x<2.+lx)\n",
    "\n",
    "model = euler.model(source=[None, None, fenergy])\n",
    "bcL = { 'type': 'insub',  'ptot': NPR*p1, 'rttot': rTt0 }\n",
    "bcR = { 'type': 'outsub', 'p': p1 }\n",
    "\n",
    "rhs = modeldisc.fvm(model, meshsim, muscl(vanalbada), \n",
    "      bcL=bcL, bcR=bcR)\n",
    "solver = rk3ssp(meshsim, rhs)\n",
    "\n",
    "# computation\n",
    "#\n",
    "nsol    = 100\n",
    "endtime = 100.\n",
    "cfl     = 1.\n",
    "\n",
    "finit = rhs.fdata_fromprim([  1., .3, 1. ]) # rho, u, p\n",
    "\n",
    "fsol = solver.solve(finit, cfl, np.linspace(0., endtime, nsol+1))\n",
    "\n",
    "solver.show_perf()"
   ]
  },
  {
   "cell_type": "code",
   "execution_count": null,
   "metadata": {},
   "outputs": [],
   "source": [
    "# Figure / Plot of final results\n",
    "varlist=['htot', 'mach', 'enthalpy']\n",
    "nvar = len(varlist)\n",
    "lines=[None]*nvar # dummy init\n",
    "fig, ax = plt.subplots(1, nvar, figsize=(5*nvar,4))\n",
    "for i in range(nvar):\n",
    "    varname = varlist[i]\n",
    "    ax[i].set_ylabel(varname) ; ax[i].set_ylim(0., 1.2*np.max(fsol[-1].phydata(varname)))\n",
    "    ax[i].grid(linestyle='--', color='0.5')\n",
    "    lines[i], = fsol[-1].plot(varname, 'k-', axes=ax[i])\n"
   ]
  },
  {
   "cell_type": "code",
   "execution_count": null,
   "metadata": {
    "scrolled": true
   },
   "outputs": [],
   "source": [
    "import matplotlib.animation as anim\n",
    "#\n",
    "def animate(k):\n",
    "    for i in range(nvar):\n",
    "        varname = varlist[i]\n",
    "        fsol[k].set_plotdata(lines[i], varname)\n",
    "    return lines\n",
    "\n",
    "ani = anim.FuncAnimation(fig=fig, func=animate, frames=range(nsol+1), interval=100, blit=True)\n",
    "ani"
   ]
  }
 ],
 "metadata": {
  "kernelspec": {
   "display_name": "Python 3",
   "language": "python",
   "name": "python3"
  },
  "language_info": {
   "codemirror_mode": {
    "name": "ipython",
    "version": 3
   },
   "file_extension": ".py",
   "mimetype": "text/x-python",
   "name": "python",
   "nbconvert_exporter": "python",
   "pygments_lexer": "ipython3",
   "version": "3.9.1-final"
  }
 },
 "nbformat": 4,
 "nbformat_minor": 2
}