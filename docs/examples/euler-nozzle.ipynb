{
 "cells": [
  {
   "cell_type": "code",
   "execution_count": null,
   "source": [
    "import time\n",
    "import matplotlib.pyplot as plt\n",
    "import numpy as np \n",
    "%matplotlib inline\n",
    "import flowdyn.mesh           as mesh\n",
    "import flowdyn.xnum           as xnum\n",
    "import flowdyn.integration    as tnum\n",
    "import flowdyn.modelphy.euler as euler\n",
    "import flowdyn.modeldisc      as modeldisc\n",
    "#\n",
    "plt.rcParams['figure.dpi'] = 120\n",
    "plt.rcParams['savefig.dpi'] = 120\n",
    "plt.rcParams[\"animation.html\"] = \"jshtml\"  # for matplotlib 2.1 and above, uses JavaScript"
   ],
   "outputs": [],
   "metadata": {}
  },
  {
   "cell_type": "code",
   "execution_count": null,
   "source": [
    "nx = 200\n",
    "meshsim  = mesh.unimesh(ncell=nx,  length=10.)\n",
    "\n",
    "def S(x):\n",
    "    return 1.-.5*np.exp(-.5*(x-5.)**2)\n",
    "\n",
    "plt.plot(meshsim.centers(), S(meshsim.centers())) ; plt.ylim(0,1)\n",
    "\n",
    "model = euler.nozzle(sectionlaw=S)\n",
    "bcL = { 'type': 'insub',  'ptot': 1.1, 'rttot': 1. }\n",
    "bcR = { 'type': 'outsub', 'p': 1. }\n",
    "\n",
    "monitors = {\n",
    "    'residual':{ 'name':'L2 residuals', 'frequency': 5 },\n",
    "    'data_average':{ 'data': 'mach', 'name':'Mach average', 'frequency': 1 }\n",
    "    }\n",
    "rhs    = modeldisc.fvm(model, meshsim, xnum.muscl(xnum.vanalbada), bcL=bcL, bcR=bcR)\n",
    "solver = tnum.rk3ssp(meshsim, rhs, monitors=monitors)\n",
    "\n",
    "# computation\n",
    "#\n",
    "nsol    = 100  # number of intermediate resultats (for animation)\n",
    "endtime = 100. # final physical time\n",
    "cfl     = 1.\n",
    "\n",
    "finit = rhs.fdata_fromprim([  1., 0.1, 1. ]) # rho, u, p\n",
    "#finit = fsol[-1] ; finit.set_time(0)\n",
    "\n",
    "fsol = solver.solve(finit, cfl, np.linspace(0., endtime, nsol+1))\n",
    "solver.show_perf()"
   ],
   "outputs": [],
   "metadata": {}
  },
  {
   "cell_type": "code",
   "execution_count": null,
   "source": [
    "# Figure / Plot of final results\n",
    "monitor_names = ['data_average', 'residual']\n",
    "fig, ax = plt.subplots(1, 2, figsize=(10,4))\n",
    "ax[0].grid(linestyle='--', color='0.5')\n",
    "monitors['data_average']['output'].plot_it(ax=ax[0])\n",
    "ax[1].grid(linestyle='--', color='0.5')\n",
    "monitors['residual']['output'].semilogplot_it(ax=ax[1])"
   ],
   "outputs": [],
   "metadata": {
    "scrolled": false
   }
  },
  {
   "cell_type": "code",
   "execution_count": null,
   "source": [
    "# Figure / Plot of final results\n",
    "varname=['pressure', 'mach']\n",
    "line = varname[:]\n",
    "fig, ax = plt.subplots(1, 2, figsize=(10,4))\n",
    "for i, var in enumerate(varname):\n",
    "    ax[i].set_ylabel(var) ; ax[i].set_ylim(0., 1.1*np.max(fsol[-1].phydata(var)))\n",
    "    ax[i].grid(linestyle='--', color='0.5')\n",
    "    line[i], = fsol[-1].plot(var, 'k-', axes=ax[i])"
   ],
   "outputs": [],
   "metadata": {
    "scrolled": false
   }
  },
  {
   "cell_type": "code",
   "execution_count": null,
   "source": [
    "import matplotlib.animation as anim\n",
    "#\n",
    "def animate(k):\n",
    "    #i = min(k, nsol)\n",
    "    for i, var in zip(range(len(varname)),varname):\n",
    "        fsol[k].set_plotdata(line[i], var)\n",
    "    return line\n",
    "\n",
    "ani = anim.FuncAnimation(fig=fig, func=animate, frames=range(nsol+1), interval=100)#, blit=True)\n",
    "ani"
   ],
   "outputs": [],
   "metadata": {}
  }
 ],
 "metadata": {
  "kernelspec": {
   "name": "python3",
   "display_name": "Python 3.7.9 64-bit ('3.7.9': pyenv)"
  },
  "language_info": {
   "codemirror_mode": {
    "name": "ipython",
    "version": 3
   },
   "file_extension": ".py",
   "mimetype": "text/x-python",
   "name": "python",
   "nbconvert_exporter": "python",
   "pygments_lexer": "ipython3",
   "version": "3.7.9"
  },
  "interpreter": {
   "hash": "2b496a9206f41b2179faf59a0f4ad4535feca1af25423db479eb0416e7e5b72f"
  }
 },
 "nbformat": 4,
 "nbformat_minor": 2
}