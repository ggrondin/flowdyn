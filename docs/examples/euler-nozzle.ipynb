{
 "cells": [
  {
   "cell_type": "code",
   "execution_count": 32,
   "metadata": {},
   "outputs": [],
   "source": [
    "import time\n",
    "import matplotlib.pyplot as plt\n",
    "import numpy as np \n",
    "%matplotlib inline\n",
    "import flowdyn.mesh           as mesh\n",
    "import flowdyn.xnum           as xnum\n",
    "import flowdyn.integration    as tnum\n",
    "import flowdyn.modelphy.euler as euler\n",
    "import flowdyn.modeldisc      as modeldisc\n",
    "#\n",
    "plt.rcParams['figure.dpi'] = 120\n",
    "plt.rcParams['savefig.dpi'] = 120\n",
    "plt.rcParams[\"animation.html\"] = \"jshtml\"  # for matplotlib 2.1 and above, uses JavaScript"
   ]
  },
  {
   "cell_type": "code",
   "execution_count": 58,
   "metadata": {},
   "outputs": [],
   "source": [
    "nx = 200\n",
    "meshsim  = mesh.unimesh(ncell=nx,  length=10.)\n",
    "\n",
    "def S(x):\n",
    "    return 1.-.5*np.exp(-.5*(x-5.)**2)\n",
    "\n",
    "plt.plot(meshsim.centers(), S(meshsim.centers())) ; plt.ylim(0,1)\n",
    "\n",
    "model = euler.nozzle(sectionlaw=S)\n",
    "bcL = { 'type': 'insub',  'ptot': 1.1, 'rttot': 1. }\n",
    "bcR = { 'type': 'outsub', 'p': 1. }\n",
    "\n",
    "rhs    = modeldisc.fvm(model, meshsim, xnum.muscl(xnum.vanalbada), bcL=bcL, bcR=bcR)\n",
    "solver = tnum.rk3ssp(meshsim, rhs)\n",
    "\n",
    "# computation\n",
    "#\n",
    "nsol    = 100  # number of intermediate resultats (for animation)\n",
    "endtime = 100. # final physical time\n",
    "cfl     = 1.\n",
    "\n",
    "finit = rhs.fdata_fromprim([  1., 0.1, 1. ]) # rho, u, p\n",
    "#finit = fsol[-1] ; finit.set_time(0)\n",
    "\n",
    "fsol = solver.solve(finit, cfl, np.linspace(0., endtime, nsol+1))\n",
    "solver.show_perf()"
   ]
  },
  {
   "cell_type": "code",
   "execution_count": 59,
   "metadata": {
    "scrolled": false
   },
   "outputs": [],
   "source": [
    "# Figure / Plot of final results\n",
    "varname=['pressure', 'mach']\n",
    "line = varname[:]\n",
    "fig, ax = plt.subplots(1, 2, figsize=(10,4))\n",
    "for i, var in zip(range(len(varname)),varname):\n",
    "    ax[i].set_ylabel(var) ; ax[i].set_ylim(0., 1.1*np.max(fsol[-1].phydata(var)))\n",
    "    ax[i].grid(linestyle='--', color='0.5')\n",
    "    line[i], = fsol[-1].plot(var, 'k-', axes=ax[i])"
   ]
  },
  {
   "cell_type": "code",
   "execution_count": 60,
   "metadata": {},
   "outputs": [],
   "source": [
    "import matplotlib.animation as anim\n",
    "#\n",
    "def animate(k):\n",
    "    #i = min(k, nsol)\n",
    "    for i, var in zip(range(len(varname)),varname):\n",
    "        fsol[k].set_plotdata(line[i], var)\n",
    "    return line\n",
    "\n",
    "ani = anim.FuncAnimation(fig=fig, func=animate, frames=range(nsol+1), interval=100)#, blit=True)\n",
    "ani"
   ]
  }
 ],
 "metadata": {
  "kernelspec": {
   "display_name": "Python 3",
   "language": "python",
   "name": "python3"
  },
  "language_info": {
   "codemirror_mode": {
    "name": "ipython",
    "version": 3
   },
   "file_extension": ".py",
   "mimetype": "text/x-python",
   "name": "python",
   "nbconvert_exporter": "python",
   "pygments_lexer": "ipython3",
   "version": "3.9.1"
  }
 },
 "nbformat": 4,
 "nbformat_minor": 2
}