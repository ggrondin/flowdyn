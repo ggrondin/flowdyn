{
 "cells": [
  {
   "cell_type": "code",
   "execution_count": 3,
   "metadata": {
    "collapsed": false
   },
   "outputs": [],
   "source": [
    "import time\n",
    "import matplotlib.pyplot as plt\n",
    "import numpy as np \n",
    "%matplotlib inline\n",
    "import pyfvm.mesh as mesh\n",
    "from pyfvm.field import *\n",
    "from pyfvm.xnum  import *\n",
    "from pyfvm.integration import *\n",
    "import pyfvm.modelphy.euler as euler\n",
    "import pyfvm.modeldisc      as modeldisc\n",
    "#\n",
    "plt.rcParams['figure.dpi']  = 80\n",
    "plt.rcParams['savefig.dpi'] = 100\n",
    "#plt.rcParams[\"animation.html\"] = \"jshtml\"  # for matplotlib 2.1 and above, uses JavaScript\n",
    "plt.rcParams[\"animation.html\"] = \"html5\" # for matplotlib 2.0 and below, converts to x264 using ffmpeg video codec"
   ]
  },
  {
   "cell_type": "code",
   "execution_count": 4,
   "metadata": {
    "collapsed": false
   },
   "outputs": [],
   "source": [
    "nx   = 200\n",
    "vavg = 0.\n",
    "vmag = .01\n",
    "\n",
    "meshsim  = mesh.unimesh(ncell=nx,  length=10.)\n",
    "\n",
    "model = euler.model()\n",
    "bcsym = { 'type': 'sym'}\n",
    "bcper = { 'type': 'per'}\n",
    "\n",
    "rhs = modeldisc.fvm(model, meshsim, muscl(vanalbada), bcL=bcsym, bcR=bcsym)\n",
    "solver = rk3ssp(meshsim, rhs)\n",
    "\n",
    "# computation\n",
    "#\n",
    "nsol    = 120\n",
    "endtime = 12.\n",
    "cfl     = .5\n",
    "\n",
    "def fu(x):\n",
    "    return vavg + vmag*np.exp(-5*(x-2.)**2)\n",
    "\n",
    "def fp(x): # gamma = 1.4\n",
    "    #return 1.\n",
    "    return (1. + .2*fu(x))**7.  # satisfies C- invariant to make only C+ wave\n",
    "\n",
    "def frho(x):\n",
    "    return 1.4 * fp(x)**(1./1.4)\n",
    "\n",
    "xc    = meshsim.centers()\n",
    "finit = rhs.fdata_fromprim([ frho(xc), fu(xc), fp(xc) ]) # rho, u, p\n",
    "\n",
    "fsol = solver.solve(finit, cfl, np.linspace(0., endtime, nsol+1))\n",
    "solver.show_perf()"
   ]
  },
  {
   "cell_type": "code",
   "execution_count": 5,
   "metadata": {
    "collapsed": false
   },
   "outputs": [],
   "source": [
    "# Figure / Plot of final results\n",
    "varname='velocity'\n",
    "fig, (ax1,ax2) = plt.subplots(1, 2, figsize=(12,4))\n",
    "ax1.set_ylabel(varname) ; ax1.set_ylim(-vavg-vmag, vavg+vmag)\n",
    "ax1.grid(linestyle='--', color='0.5')\n",
    "line1, = fsol[-1].plot(varname, 'k-', axes=ax1)\n",
    "ax2.set_ylabel('t') ; ax2.set_xlim(0., 10.)\n",
    "#ax2.grid(linestyle='--', color='0.5')\n",
    "ttime = [ fsol[i].time for i in range(nsol+1) ]\n",
    "xx, xt = np.meshgrid(xc, ttime)\n",
    "solgrid = [ fsol[i].phydata(varname) for i in range(nsol+1) ]\n",
    "#error = [ np.sqrt(np.sum((fsol[i].phydata(varname)-mach_th)**2)/nx)/mach_th for i in range(nsol+1) ]\n",
    "#print error\n",
    "flood  = ax2.contour(xx, xt, solgrid, np.linspace(-vavg-vmag, vavg+vmag, 50))\n",
    "line2, = ax2.plot([0., 10.], [ttime[-1], ttime[-1]], 'k--')\n"
   ]
  },
  {
   "cell_type": "code",
   "execution_count": null,
   "metadata": {
    "collapsed": false
   },
   "outputs": [],
   "source": [
    "import matplotlib.animation as anim\n",
    "#\n",
    "def animate(k):\n",
    "    #i = min(k, nsol)\n",
    "    fsol[k].set_plotdata(line1, 'mach')\n",
    "    line2.set_data([0., 10.], [ttime[k], ttime[k]])\n",
    "    return line1, line2\n",
    "\n",
    "ani = anim.FuncAnimation(fig=fig, func=animate, frames=range(nsol+1), interval=100, blit=True)\n",
    "ani\n",
    "#from IPython.display import HTML\n",
    "#HTML(ani.to_html5_video()) # if no rcparams"
   ]
  },
  {
   "cell_type": "code",
   "execution_count": null,
   "metadata": {
    "collapsed": false
   },
   "outputs": [],
   "source": []
  },
  {
   "cell_type": "code",
   "execution_count": null,
   "metadata": {
    "collapsed": false
   },
   "outputs": [],
   "source": []
  }
 ],
 "metadata": {
  "kernelspec": {
   "display_name": "Python 2",
   "language": "python",
   "name": "python2"
  },
  "language_info": {
   "codemirror_mode": {
    "name": "ipython",
    "version": 2
   },
   "file_extension": ".py",
   "mimetype": "text/x-python",
   "name": "python",
   "nbconvert_exporter": "python",
   "pygments_lexer": "ipython2",
   "version": "2.7.15-final"
  }
 },
 "nbformat": 4,
 "nbformat_minor": 2
}