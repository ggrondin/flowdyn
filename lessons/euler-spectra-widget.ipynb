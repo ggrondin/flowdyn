{
 "cells": [
  {
   "cell_type": "markdown",
   "metadata": {},
   "source": [
    "# Étude d'une équation de convection scalaire\n",
    "\n",
    "`Python` sera utilisé ici comme `matlab`. Des fonctionnalités supplémentaires peuvent être ajoutées par l'import de modules, standards à une distribution (comme `math`, `numpy`) ou personnalisés comme ci-dessous. Des fonctionnalités d'édition sont propres à [`Ipython/Notebook`](#ipython)."
   ]
  },
  {
   "cell_type": "code",
   "execution_count": null,
   "metadata": {
    "collapsed": false
   },
   "outputs": [],
   "source": [
    "import numpy             as np\n",
    "import numpy.linalg      as alg\n",
    "import matplotlib.pyplot as plt\n",
    "import time\n",
    "#\n",
    "import flowdyn.mesh  as mesh\n",
    "import flowdyn.modelphy.euler as euler\n",
    "import flowdyn.modeldisc      as modeldisc\n",
    "#import flowdyn.field as data\n",
    "from flowdyn.xnum        import *\n",
    "from flowdyn.integration import *\n",
    "import ipywidgets as pyw\n",
    "%matplotlib notebook"
   ]
  },
  {
   "cell_type": "markdown",
   "metadata": {},
   "source": [
    "\n",
    "## Définition des maillages, du modèle physique et solution initiales\n"
   ]
  },
  {
   "cell_type": "code",
   "execution_count": null,
   "metadata": {
    "collapsed": false
   },
   "outputs": [],
   "source": [
    "#mgmesh  = mesh.refinedmesh(ncell=100, length=1., ratio=2.)\n",
    "mymodel = euler.model()\n",
    "print(mymodel.list_bc())"
   ]
  },
  {
   "cell_type": "markdown",
   "metadata": {},
   "source": [
    "## Calcul et comparaison de spectre\n",
    "\n"
   ]
  },
  {
   "cell_type": "code",
   "execution_count": null,
   "metadata": {
    "collapsed": false
   },
   "outputs": [],
   "source": [
    "w_M    = pyw.FloatSlider(value=.2, min=0, max=2,  step=.05, description=\"$M_0$\")\n",
    "w_nx   = pyw.IntSlider(value=50, min=2, max=500, step=2, description=\"$N_x$\")\n",
    "w_num  = pyw.Dropdown(description='Num. scheme:',\n",
    "            options={'extrapol1/upwind': extrapol1(),\n",
    "                     'extrapol2': extrapol2(),\n",
    "                     'extrapol3': extrapol3()})\n",
    "w_eps  = pyw.FloatLogSlider(value=1e-4, base=10, min=-10, max=0, step=.1, description='$\\\\varepsilon$', readout_format='3.1e')\n",
    "w_vpnb = pyw.Checkbox(value=False, description=\"eigenvalue label\") \n",
    "w_bc   = pyw.Checkbox(value=False, description=\"BC periodic\") \n",
    "w_xr   = pyw.FloatRangeSlider(value=[-1., 0.1], min=-50., max=10.0, step=.01,\n",
    "            description='$x$ range', readout=True, readout_format='.1f')\n",
    "w_yr   = pyw.FloatRangeSlider(value=[-2., 2.], min=-100, max=100.0, step=.01,\n",
    "            description='$y$ range', readout=True, readout_format='.1f', orientation='vertical')\n",
    "w_trigger = pyw.Checkbox(value=False)\n",
    "\n",
    "w_nummode = pyw.IntText(value=1, min=0, description='mode number:', continuous_update=False)\n",
    "#w_nummode = pyw.IntSlider(value=1, min=0, step=1, description='mode number:', continuous_update=False)\n",
    "w_var     = pyw.RadioButtons(description='variable set',\n",
    "            options={'conservative': 'cons', 'primitive': 'prim'})\n",
    "w_comp    = pyw.RadioButtons(description='complex',\n",
    "            options={'real / imaginary': 'reimag', 'norm / angle': 'absang'})\n",
    "\n",
    "def plot_spectra(mach, npts, modebc, num, epsdiff):\n",
    "    global val, vec, lmesh\n",
    "    rttot = (1.+.2*mach**2) / 1.4\n",
    "    ptot  = (1.+.2*mach**2)**3.5\n",
    "    lmesh = mesh.unimesh(ncell=npts, length=1.)\n",
    "    #num   = extrapol3()\n",
    "    bcp = { 'type': 'per' }\n",
    "    bcL = { 'type': 'insub',  'ptot': ptot, 'rttot': rttot }\n",
    "    bcR = { 'type': 'outsub', 'p': 1. }\n",
    "\n",
    "    if modebc:\n",
    "        rhs  = modeldisc.fvm(mymodel, lmesh, num, bcp, bcp)\n",
    "    else:\n",
    "        rhs  = modeldisc.fvm(mymodel, lmesh, num, bcL, bcR)\n",
    "\n",
    "    finit = rhs.fdata(mymodel.prim2cons([1.4, mach, 1. ])) # rho, u, p\n",
    "\n",
    "    solver = implicit(lmesh, rhs)\n",
    "    jac    = solver.calc_jacobian(finit, epsdiff)\n",
    "    val, vec = alg.eig(jac)\n",
    "    \n",
    "    fig, ax = plt.subplots(1, 1, figsize=(6,6))\n",
    "    ax.scatter(val.real, val.imag, marker='o')\n",
    "    ax.axhline(0)\n",
    "    ax.axvline(0)\n",
    "\n",
    "    #plt.legend(labels, loc='upper left',prop={'size':10})\n",
    "    #plot_zoom([-.1*lmesh.ncell, .02*lmesh.ncell], [-.5*lmesh.ncell, 1*lmesh.ncell])\n",
    "    xmin, xmax = np.min(val.real), np.max(val.real)\n",
    "    ymin, ymax = np.min(val.imag), np.max(val.imag)\n",
    "    bord = .01\n",
    "    w_xr.min = xmin - (xmax-xmin)*bord\n",
    "    w_xr.max = xmax + (xmax-xmin)*bord\n",
    "    w_yr.min = ymin - (ymax-ymin)*bord\n",
    "    w_yr.max = ymax + (ymax-ymin)*bord\n",
    "    w_vpnb.value = False\n",
    "    w_nummode.max = val.size-1\n",
    "    w_trigger.value = not w_trigger.value\n",
    "    \n",
    "def plot_zoom(xr, yr, vpnb=False, trigger=False):\n",
    "    global val, vec\n",
    "    fig, ax = plt.subplots(1, 1, figsize=(6,6))\n",
    "    ax.scatter(val.real, val.imag, marker='o')\n",
    "    ax.set_xlim(xr[0], xr[1])\n",
    "    ax.set_ylim(yr[0], yr[1])\n",
    "    ax.axhline(0)\n",
    "    ax.axvline(0)\n",
    "    if vpnb:\n",
    "        for i in range(val.size):\n",
    "            if val[i].real > xr[0] and val[i].real < xr[1] and val[i].imag > yr[0] and val[i].imag < yr[1]:\n",
    "                ax.annotate(i,(val[i].real, val[i].imag), annotation_clip=True)\n",
    "    \n",
    "def plot_mode(vartype, comprep, nummode):\n",
    "    global vec, lmesh\n",
    "    n = lmesh.ncell\n",
    "    nvar=3\n",
    "    print(nummode, n)\n",
    "    fig, ax = plt.subplots(nvar, 2, figsize=(16,12))\n",
    "    x = lmesh.centers()\n",
    "    v = [None]*nvar\n",
    "    for i in range(nvar):\n",
    "        v[i] = vec[i::nvar,nummode]\n",
    "    if comprep=='reimag':\n",
    "        for i in range(nvar):\n",
    "            ax[i][0].plot(x, v[i].real)\n",
    "            ax[i][1].plot(x, v[i].imag)\n",
    "    elif comprep=='absang':\n",
    "        for i in range(nvar):\n",
    "            ax[i][0].plot(x, np.abs(v[i]))\n",
    "            ax[i][1].plot(x, np.angle(v[i], deg=True))\n",
    "        "
   ]
  },
  {
   "cell_type": "code",
   "execution_count": null,
   "metadata": {
    "collapsed": false,
    "scrolled": false
   },
   "outputs": [],
   "source": [
    "out0 = pyw.interactive(plot_spectra, mach=w_M, npts=w_nx, modebc=w_bc, num=w_num, epsdiff=w_eps)\n",
    "out0.children[-1].layout.height = '400px'\n",
    "out1 = pyw.interactive(plot_zoom, xr=w_xr, yr=w_yr, vpnb=w_vpnb, trigger=w_trigger)\n",
    "out1.children[-1].layout.height = '400px'\n",
    "\n",
    "w_C00 = pyw.VBox([w_M, w_nx, w_num, w_eps, w_bc])\n",
    "w_C01 = out0.children[-1]\n",
    "w_C10 = pyw.VBox([pyw.Label('Zoom:'), w_vpnb, w_xr])\n",
    "w_C11 = pyw.HBox([out1.children[-1],w_yr]) \n",
    "\n",
    "out2 = pyw.interactive(plot_mode, vartype=w_var, comprep=w_comp, nummode=w_nummode)\n",
    "out2.children[-1].layout.height = '800px'\n",
    "#def update_x_range(*args):\n",
    "#    x_widget.max = 2.0 * y_widget.value\n",
    "#y_widget.observe(update_x_range, 'value')\n",
    "\n",
    "#w_T1 = pyw.HBox([w_C0, w_C1])\n",
    "w_T1 = pyw.GridBox([w_C00, w_C10, w_C01, w_C11], layout=pyw.Layout(width='auto', grid_template_columns='50% 50%'))\n",
    "\n",
    "w_T2 = pyw.VBox([w_nummode, pyw.HBox([w_var, w_comp]), out2.children[-1]])\n",
    "output = pyw.Tab([w_T1, w_T2])\n",
    "output.set_title(0, 'Spectra')\n",
    "output.set_title(1, 'Modes')\n",
    "output"
   ]
  },
  {
   "cell_type": "code",
   "execution_count": null,
   "metadata": {
    "collapsed": false
   },
   "outputs": [],
   "source": [
    "from IPython.core.display import HTML ; HTML(open(\"./custom.css\", \"r\").read()) # notebook style"
   ]
  },
  {
   "cell_type": "code",
   "execution_count": null,
   "metadata": {
    "collapsed": false
   },
   "outputs": [],
   "source": [
    "print('abc'=='ab')"
   ]
  },
  {
   "cell_type": "code",
   "execution_count": null,
   "metadata": {
    "collapsed": false
   },
   "outputs": [],
   "source": []
  }
 ],
 "metadata": {
  "kernelspec": {
   "display_name": "Python 3",
   "language": "python",
   "name": "python3"
  },
  "language_info": {
   "codemirror_mode": {
    "name": "ipython",
    "version": 3
   },
   "file_extension": ".py",
   "mimetype": "text/x-python",
   "name": "python",
   "nbconvert_exporter": "python",
   "pygments_lexer": "ipython3",
   "version": "3.7.4"
  }
 },
 "nbformat": 4,
 "nbformat_minor": 2
}