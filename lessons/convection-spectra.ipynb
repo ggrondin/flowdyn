{
 "cells": [
  {
   "cell_type": "markdown",
   "metadata": {},
   "source": [
    "# Étude d'une équation de convection scalaire\n",
    "\n",
    "`Python` sera utilisé ici comme `matlab`. Des fonctionnalités supplémentaires peuvent être ajoutées par l'import de modules, standards à une distribution (comme `math`, `numpy`) ou personnalisés comme ci-dessous. Des fonctionnalités d'édition sont propres à [`Ipython/Notebook`](#ipython)."
   ]
  },
  {
   "cell_type": "code",
   "execution_count": null,
   "metadata": {
    "collapsed": false
   },
   "outputs": [],
   "source": [
    "%matplotlib inline\n",
    "import numpy             as np\n",
    "import numpy.linalg      as alg\n",
    "import matplotlib.pyplot as plt\n",
    "import time\n",
    "#\n",
    "import pyfvm.mesh  as mesh\n",
    "import pyfvm.modelphy.convection as conv\n",
    "import pyfvm.modeldisc      as modeldisc\n",
    "#import pyfvm.field as data\n",
    "from pyfvm.xnum        import *\n",
    "from pyfvm.integration import *"
   ]
  },
  {
   "cell_type": "markdown",
   "metadata": {},
   "source": [
    "On cherche à résoudre l'évolution instationnaire du problème linéaire de convection suivant\n",
    "\n",
    "$$ \\frac{\\partial q}{\\partial t} + a \\frac{\\partial q}{\\partial x} = 0 $$\n",
    "\n",
    "pour la quantité transportée $q(x,t)$ et la condition intiale $q_0(x)$ sur le domaine $[0;\\ell]$ avec des conditions périodiques. On choisit $\\ell=1\\rm~m$ et $a=1\\rm~m/s$. \n",
    "\n",
    "\n",
    "## Définition des maillages, du modèle physique et solution initiales\n"
   ]
  },
  {
   "cell_type": "code",
   "execution_count": null,
   "metadata": {
    "collapsed": false
   },
   "outputs": [],
   "source": [
    "mesh400 = mesh.unimesh(ncell=400, length=1.)\n",
    "mesh200 = mesh.unimesh(ncell=200, length=1.)\n",
    "mesh100 = mesh.unimesh(ncell=100, length=1.)\n",
    "mesh50  = mesh.unimesh(ncell=50,  length=1.)\n",
    "mgmesh  = mesh.refinedmesh(ncell=100, length=1., ratio=2.)\n",
    "\n",
    "mymodel = conv.model(1.)\n",
    "print mymodel.list_bc()\n",
    "bc = { 'type': 'per' }\n",
    "\n",
    "# sinus packet\n",
    "def init_sinpack(mesh):\n",
    "    return np.sin(2*2*np.pi/mesh.length*mesh.centers())*(1+np.sign(-(mesh.centers()/mesh.length-.25)*(mesh.centers()/mesh.length-.75)))/2        \n",
    "    \n",
    "# periodic wave\n",
    "def init_sinper(mesh):\n",
    "    k = 2 # nombre d'onde\n",
    "    return np.sin(2*k*np.pi/mesh.length*mesh.centers())\n",
    "    \n",
    "# square signal\n",
    "def init_square(mesh):\n",
    "    return (1+np.sign(-(mesh.centers()/mesh.length-.25)*(mesh.centers()/mesh.length-.75)))/2\n"
   ]
  },
  {
   "cell_type": "markdown",
   "metadata": {},
   "source": [
    "## Calcul et comparaison de spectre\n",
    "\n",
    "\n",
    "1. le spectre dépend-t-il de la condition initiale ? pourquoi ?\n",
    "2. qu'attend-t-on de la partie droite du spectre ? \n",
    "3. qu'attend-t-on de la partie gauche du spectre et quel est son impact ?"
   ]
  },
  {
   "cell_type": "code",
   "execution_count": null,
   "metadata": {
    "collapsed": false
   },
   "outputs": [],
   "source": [
    "#bcL = { 'type': 'insub',  'ptot': NPR*p1, 'rttot': rTt0 }\n",
    "#bcR = { 'type': 'outsub', 'p': p1 }\n",
    "\n",
    "#rhs = modeldisc.fvm(model, meshsim, muscl(vanalbada), \n",
    "#      bcL=bcL, bcR=bcR)\n",
    "#solver = rk3ssp(meshsim, rhs)\n",
    "\n",
    "meshs   = [ mesh100 ]\n",
    "# extrapol1(), extrapol2()=extrapolk(1), centered=extrapolk(-1), extrapol3=extrapol(1./3.) \n",
    "xmeths   = [ extrapol1(), extrapol3() ]\n",
    "legends  = [ 'O1', 'O3',  ]\n",
    "# explicit, rk2, rk3ssp, rk4, implicit, trapezoidal=cranknicolson\n",
    "\n",
    "init = init_sinper\n",
    "\n",
    "results = []\n",
    "labels  = []\n",
    "nbcalc  = max(len(xmeths), len(meshs))\n",
    "\n",
    "for i in range(nbcalc):\n",
    "    lmesh = (meshs*nbcalc)[i]\n",
    "    rhs  = modeldisc.fvm(mymodel, lmesh, (xmeths*nbcalc)[i], bc, bc)\n",
    "    field0 = rhs.fdata([init(lmesh)])\n",
    "    solver = implicit(lmesh, rhs)\n",
    "    jac    = solver.calc_jacobian(field0)\n",
    "    val, vec = alg.eig(jac)\n",
    "    results.append(val/lmesh.ncell)\n",
    "\n",
    "# display and save results to png file\n",
    "style=['o', 'x', 'D', '*', 'o', 'o']\n",
    "fig=plt.figure(1, figsize=(10,8))\n",
    "for i in range(nbcalc):\n",
    "    plt.scatter(results[i].real, results[i].imag, marker=style[i])\n",
    "    labels.append(legends[i])\n",
    "plt.legend(labels, loc='upper left',prop={'size':10})"
   ]
  },
  {
   "cell_type": "markdown",
   "metadata": {},
   "source": [
    "## Spectre d'opérateur et limite de stabilité\n",
    "\n",
    "1. Comment évolue l'opérateur d'intégration temporelle (développement de $\\exp At$) ?\n",
    "2. Tracer le diagramme pour différents couples schémas temporels et spatials et retrouver les limites de stabilité par la simulation"
   ]
  },
  {
   "cell_type": "code",
   "execution_count": null,
   "metadata": {
    "collapsed": false
   },
   "outputs": [],
   "source": [
    "meshs   = [ mesh50 ]\n",
    "# extrapol1(), extrapol2()=extrapolk(1), centered=extrapolk(-1), extrapol3=extrapol(1./3.) \n",
    "xmeths   = [ extrapol1() ]\n",
    "legends  = [ 'O1' ]\n",
    "\n",
    "init = init_sinper\n",
    "cfl  = .8\n",
    "\n",
    "results = []\n",
    "labels  = []\n",
    "nbcalc  = max(len(xmeths), len(meshs))\n",
    "\n",
    "for i in range(nbcalc):\n",
    "    lmesh = (meshs*nbcalc)[i]\n",
    "    field0 = scafield(mymodel, bc, lmesh.ncell)\n",
    "    field0.qdata[0] = init(lmesh)\n",
    "    solver = implicit(lmesh, (xmeths*nbcalc)[i])\n",
    "    jac    = solver.calc_jacobian(numfield(field0))\n",
    "    val, vec = alg.eig(jac)\n",
    "    results.append(val/lmesh.ncell)\n",
    "\n",
    "# display \n",
    "style=['o', 'x', 'D', '*', 'o', 'o']\n",
    "fig=plt.figure(1, figsize=(10,8))\n",
    "for i in range(nbcalc):\n",
    "    plt.scatter(results[i].real, results[i].imag, marker=style[i])\n",
    "    labels.append(legends[i])\n",
    "plt.legend(labels, loc='upper left',prop={'size':10})\n",
    "#\n",
    "# COMPUTE AND DISPLAY STABILITY AREA\n",
    "#\n",
    "x = np.r_[-2.5:.2:30j]\n",
    "y = np.r_[-2.:2.:60j]\n",
    "X, Y = np.meshgrid(x, y)\n",
    "vp = cfl*(X+Y*1j)\n",
    "# A EVENTUELLEMENT COMPLETER\n",
    "integrator = 1.+ vp \n",
    "plt.contour(X,Y,abs(integrator), levels=[1], linewidths=3, colors='darkorange') # contour() accepts complex values\n",
    "plt.axis('equal')"
   ]
  },
  {
   "cell_type": "markdown",
   "metadata": {
    "collapsed": true
   },
   "source": [
    "---\n",
    "\n",
    "<a id=\"ipython\"></a>\n",
    "## Ipython et notebook : usage\n",
    "\n",
    "* le notebook utilise la langage de base python en version améliorée, Ipython, qui permet la complétion des noms (variables, fonctions, modules) avec la touche tabulation\n",
    "* toutes les cellules peuvent être modifiées par un double-clic et sont réinterprêtées avec `shift-entrée`\n",
    "* l'ensemble de la feuille peut être exécutée avec le menu `Cell/run all cells`\n",
    "* **n'oubliez pas de sauvegarder régulièrement votre feuille** (bouton _enregistrer_)\n"
   ]
  },
  {
   "cell_type": "code",
   "execution_count": null,
   "metadata": {
    "collapsed": false
   },
   "outputs": [],
   "source": [
    "from IPython.core.display import HTML ; HTML(open(\"./custom.css\", \"r\").read()) # notebook style"
   ]
  }
 ],
 "metadata": {
  "kernelspec": {
   "display_name": "Python 2",
   "language": "python",
   "name": "python2"
  },
  "language_info": {
   "codemirror_mode": {
    "name": "ipython",
    "version": 2
   },
   "file_extension": ".py",
   "mimetype": "text/x-python",
   "name": "python",
   "nbconvert_exporter": "python",
   "pygments_lexer": "ipython2",
   "version": "2.7.15"
  }
 },
 "nbformat": 4,
 "nbformat_minor": 2
}