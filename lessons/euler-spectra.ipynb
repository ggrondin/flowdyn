{
 "cells": [
  {
   "cell_type": "markdown",
   "execution_count": null,
   "metadata": {},
   "outputs": [],
   "source": [
    "# Étude d'une équation de convection scalaire\n",
    "\n",
    "`Python` sera utilisé ici comme `matlab`. Des fonctionnalités supplémentaires peuvent être ajoutées par l'import de modules, standards à une distribution (comme `math`, `numpy`) ou personnalisés comme ci-dessous. Des fonctionnalités d'édition sont propres à [`Ipython/Notebook`](#ipython)."
   ]
  },
  {
   "cell_type": "code",
   "execution_count": null,
   "metadata": {
    "collapsed": false
   },
   "outputs": [],
   "source": [
    "%matplotlib inline\n",
    "import numpy             as np\n",
    "import numpy.linalg      as alg\n",
    "import matplotlib.pyplot as plt\n",
    "import time\n",
    "#\n",
    "import flowdyn.mesh  as mesh\n",
    "import flowdyn.modelphy.euler as euler\n",
    "import flowdyn.modeldisc      as modeldisc\n",
    "#import flowdyn.field as data\n",
    "from flowdyn.xnum        import *\n",
    "from flowdyn.integration import *"
   ]
  },
  {
   "cell_type": "markdown",
   "execution_count": null,
   "metadata": {},
   "outputs": [],
   "source": [
    "On cherche à résoudre l'évolution instationnaire du problème linéaire de convection suivant\n",
    "\n",
    "$$ \\frac{\\partial q}{\\partial t} + a \\frac{\\partial q}{\\partial x} = 0 $$\n",
    "\n",
    "pour la quantité transportée $q(x,t)$ et la condition intiale $q_0(x)$ sur le domaine $[0;\\ell]$ avec des conditions périodiques. On choisit $\\ell=1\\rm~m$ et $a=1\\rm~m/s$. \n",
    "\n",
    "\n",
    "## Définition des maillages, du modèle physique et solution initiales\n"
   ]
  },
  {
   "cell_type": "code",
   "execution_count": null,
   "metadata": {
    "collapsed": false
   },
   "outputs": [],
   "source": [
    "mesh400 = mesh.unimesh(ncell=400, length=1.)\n",
    "mesh200 = mesh.unimesh(ncell=200, length=1.)\n",
    "mesh100 = mesh.unimesh(ncell=100, length=1.)\n",
    "mesh50  = mesh.unimesh(ncell=50,  length=1.)\n",
    "mesh10  = mesh.unimesh(ncell=10,  length=1.)\n",
    "mgmesh  = mesh.refinedmesh(ncell=100, length=1., ratio=2.)\n",
    "momesh  = mesh.morphedmesh(ncell=100, length=1., morph=lambda x:((x-.5)/.5)**3 *.5 +.5)\n",
    "\n",
    "mymodel = euler.model()\n",
    "print(mymodel.list_bc())\n",
    "\n",
    "#plt.plot(momesh.centers())\n"
   ]
  },
  {
   "cell_type": "markdown",
   "execution_count": null,
   "metadata": {},
   "outputs": [],
   "source": [
    "## Calcul et comparaison de spectre\n",
    "\n",
    "\n",
    "1. le spectre dépend-t-il de la condition initiale ? pourquoi ?\n",
    "2. qu'attend-t-on de la partie droite du spectre ? \n",
    "3. qu'attend-t-on de la partie gauche du spectre et quel est son impact ?"
   ]
  },
  {
   "cell_type": "code",
   "execution_count": null,
   "metadata": {
    "collapsed": false
   },
   "outputs": [],
   "source": [
    "mach  = 0.05\n",
    "rttot = (1.+.2*mach**2) / 1.4\n",
    "ptot  = (1.+.2*mach**2)**3.5\n",
    "lmesh = momesh\n",
    "num   = extrapol3()\n",
    "bcp = { 'type': 'per' }\n",
    "bcL = { 'type': 'insub',  'ptot': ptot, 'rttot': rttot }\n",
    "bcR = { 'type': 'outsub', 'p': 1. }\n",
    "\n",
    "#rhs = modeldisc.fvm(model, meshsim, muscl(vanalbada), \n",
    "#      bcL=bcL, bcR=bcR)\n",
    "#solver = rk3ssp(meshsim, rhs)\n",
    "\n",
    "# extrapol1(), extrapol2()=extrapolk(1), centered=extrapolk(-1), extrapol3=extrapol(1./3.) \n",
    "# explicit, rk2, rk3ssp, rk4, implicit, trapezoidal=cranknicolson\n",
    "\n",
    "rhs  = modeldisc.fvm(mymodel, lmesh, num, bcp, bcp)\n",
    "\n",
    "finit = rhs.fdata(mymodel.prim2cons([  1.4, mach, 1. ])) # rho, u, p\n",
    "\n",
    "solver = implicit(lmesh, rhs)\n",
    "jac    = solver.calc_jacobian(finit, epsdiff=1.e-3)\n",
    "val, vec = alg.eig(jac)\n",
    "results = val/lmesh.ncell\n",
    "\n",
    "# display and save results to png file\n",
    "style=['o', 'x', 'D', '*', 'o', 'o']\n",
    "fig, ax = plt.subplots(1, 2, figsize=(14,6))\n",
    "ax[0].scatter(results.real, results.imag, marker=style[0])\n",
    "ax[1].scatter(results.real, results.imag, marker=style[0])\n",
    "ax[1].set_xlim(-.1, .05)\n",
    "ax[1].set_ylim(-.1, .5)\n",
    "#plt.legend(labels, loc='upper left',prop={'size':10})"
   ]
  },
  {
   "cell_type": "code",
   "execution_count": null,
   "metadata": {
    "collapsed": false
   },
   "outputs": [],
   "source": [
    "np.savetxt(\"eigvals.txt\", np.array([results.real, results.imag]).transpose(), newline='\\n')\n",
    "#np.savetxt(\"eigvals.txt\", (np.arange(10), 2*np.arange(10)), newline='\\n')\n",
    "#np.array([results.real, results.imag]).transpose()"
   ]
  },
  {
   "cell_type": "code",
   "execution_count": null,
   "metadata": {
    "collapsed": false
   },
   "outputs": [],
   "source": [
    "from IPython.core.display import HTML ; HTML(open(\"./custom.css\", \"r\").read()) # notebook style"
   ]
  }
 ],
 "metadata": {
  "kernelspec": {
   "display_name": "Python 3",
   "language": "python",
   "name": "python3"
  },
  "language_info": {
   "codemirror_mode": {
    "name": "ipython",
    "version": 2
   },
   "file_extension": ".py",
   "mimetype": "text/x-python",
   "name": "python",
   "nbconvert_exporter": "python",
   "pygments_lexer": "ipython2",
   "version": "3.7.5-final"
  }
 },
 "nbformat": 4,
 "nbformat_minor": 2
}