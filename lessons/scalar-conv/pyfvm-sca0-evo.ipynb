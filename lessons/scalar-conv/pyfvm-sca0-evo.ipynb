{
 "cells": [
  {
   "cell_type": "markdown",
   "metadata": {},
   "source": [
    "# Étude d'une équation de convection scalaire\n",
    "\n",
    "`Python` sera utilisé ici comme `matlab`. Des fonctionnalités supplémentaires peuvent être ajoutées par l'import de modules, standards à une distribution (comme `math`, `numpy`) ou personnalisés comme ci-dessous. Des fonctionnalités d'édition sont propres à [`Ipython/Notebook`](#ipython)."
   ]
  },
  {
   "cell_type": "code",
   "execution_count": null,
   "metadata": {
    "collapsed": false
   },
   "outputs": [],
   "source": [
    "%matplotlib inline\n",
    "import numpy as np\n",
    "import matplotlib.pyplot as plt\n",
    "import time\n",
    "#\n",
    "import pyfvm.mesh  as mesh\n",
    "import pyfvm.model as model\n",
    "import pyfvm.field as data\n",
    "from pyfvm.xnum        import *\n",
    "from pyfvm.integration import *"
   ]
  },
  {
   "cell_type": "markdown",
   "metadata": {},
   "source": [
    "On cherche à résoudre l'évolution instationnaire du problème linéaire de convection suivant\n",
    "\n",
    "$$ \\frac{\\partial q}{\\partial t} + a \\frac{\\partial q}{\\partial x} = 0 $$\n",
    "\n",
    "pour la quantité transportée $q(x,t)$ et la condition intiale $q_0(x)$ sur le domaine $[0;\\ell]$ avec des conditions périodiques. On choisit $\\ell=1\\rm~m$ et $a=1\\rm~m/s$. \n",
    "\n",
    "\n",
    "## Définition des maillages et du modèle physique\n"
   ]
  },
  {
   "cell_type": "code",
   "execution_count": null,
   "metadata": {
    "collapsed": false
   },
   "outputs": [],
   "source": [
    "mesh200 = mesh.unimesh(ncell=200, length=1.)\n",
    "mesh100 = mesh.unimesh(ncell=100, length=1.)\n",
    "mesh50  = mesh.unimesh(ncell=50,  length=1.)\n",
    "\n",
    "mymodel     = model.convmodel(1.)"
   ]
  },
  {
   "cell_type": "markdown",
   "metadata": {},
   "source": [
    "## Définition des solutions initiales"
   ]
  },
  {
   "cell_type": "code",
   "execution_count": null,
   "metadata": {
    "collapsed": false
   },
   "outputs": [],
   "source": [
    "# sinus packet\n",
    "def init_sinpack(mesh):\n",
    "    return np.sin(2*2*np.pi/mesh.length*mesh.centers())*(1+np.sign(-(mesh.centers()/mesh.length-.25)*(mesh.centers()/mesh.length-.75)))/2        \n",
    "    \n",
    "# periodic wave\n",
    "def init_sinper(mesh):\n",
    "    k = 2 # nombre d'onde\n",
    "    return np.sin(2*k*np.pi/mesh.length*mesh.centers())\n",
    "    \n",
    "# square signal\n",
    "def init_square(mesh):\n",
    "    return (1+np.sign(-(mesh.centers()/mesh.length-.25)*(mesh.centers()/mesh.length-.75)))/2\n",
    "\n",
    "fig, ax = plt.subplots(1, 3, figsize=(15,4), sharey='row') ; ax[0].axes.set_ylim(-1.1, 1.1)\n",
    "x = mesh200.centers()\n",
    "ax[0].plot(x, init_sinper(mesh200))\n",
    "ax[1].plot(x, init_sinpack(mesh200))\n",
    "ax[2].plot(x, init_square(mesh200))"
   ]
  },
  {
   "cell_type": "code",
   "execution_count": null,
   "metadata": {
    "collapsed": false
   },
   "outputs": [],
   "source": [
    "endtime = 4   # final physical time of simulation\n",
    "ntime   = 2   # number of intermediate snapshots\n",
    "tsave   = np.linspace(0, endtime, num=ntime+1) \n",
    "\n",
    "initm = init_sinper\n",
    "mesh  = mesh100\n",
    "cfl   = 0.5\n",
    "xnum  = extrapol1() # extrapol1(), extrapol2()=extrapolk(1), centered=extrapolk(-1), extrapol3=extrapol(1./3.) \n",
    "tnum  = explicit    # explicit, rk2, rk3ssp, rk4, implicit, trapezoidal=cranknicolson\n",
    "#\n",
    "field0          = data.scafield(mymodel, bc='p', nelem=mesh.ncell)   # intial field object\n",
    "field0.qdata[0] = initm(mesh)                          # initialization\n",
    "integrator = tnum(mesh, xnum)                          # define solver and integrator\n",
    "#\n",
    "# COMPUTATION\n",
    "start = time.clock()\n",
    "results = integrator.solve(field0, cfl, tsave)\n",
    "print \"cpu time (\",integrator.nit,\"it) :\",time.clock()-start,\"s\"\n",
    "#\n",
    "# display results\n",
    "style=['o', 'x', 'D', '*', 'o', 'o']\n",
    "fig=plt.figure(1, figsize=(14,10))\n",
    "plt.plot(mesh.centers(), results[0].qdata[0], '-')\n",
    "labels = [\"initial condition\"]\n",
    "for t in range(1,len(tsave)):\n",
    "    plt.plot(mesh.centers(), results[t].qdata[0], style[t])\n",
    "    labels.append(\", t=%.1f\"%results[t].time)\n",
    "plt.legend(labels, loc='upper left',prop={'size':12})  \n"
   ]
  },
  {
   "cell_type": "markdown",
   "metadata": {
    "collapsed": true
   },
   "source": [
    "---\n",
    "\n",
    "<a id=\"ipython\"></a>\n",
    "## Ipython et notebook : usage\n",
    "\n",
    "* le notebook utilise la langage de base python en version améliorée, Ipython, qui permet la complétion des noms (variables, fonctions, modules) avec la touche tabulation\n",
    "* toutes les cellules peuvent être modifiées par un double-clic et sont réinterprêtées avec `shift-entrée`\n",
    "* l'ensemble de la feuille peut être exécutée avec le menu `Cell/run all cells`\n",
    "* **n'oubliez pas de sauvegarder régulièrement votre feuille** (bouton _enregistrer_)\n"
   ]
  },
  {
   "cell_type": "code",
   "execution_count": null,
   "metadata": {
    "collapsed": false
   },
   "outputs": [],
   "source": [
    "from IPython.core.display import HTML ; HTML(open(\"./custom.css\", \"r\").read()) # notebook style"
   ]
  }
 ],
 "metadata": {
  "kernelspec": {
   "display_name": "Python 2",
   "language": "python",
   "name": "python2"
  },
  "language_info": {
   "codemirror_mode": {
    "name": "ipython",
    "version": 2
   },
   "file_extension": ".py",
   "mimetype": "text/x-python",
   "name": "python",
   "nbconvert_exporter": "python",
   "pygments_lexer": "ipython2",
   "version": "2.7.15"
  }
 },
 "nbformat": 4,
 "nbformat_minor": 2
}