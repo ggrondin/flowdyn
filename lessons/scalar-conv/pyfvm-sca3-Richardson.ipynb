{
 "cells": [
  {
   "cell_type": "markdown",
   "metadata": {},
   "source": [
    "# Étude d'une équation de convection scalaire\n",
    "\n",
    "`Python` sera utilisé ici comme `matlab`. Des fonctionnalités supplémentaires peuvent être ajoutées par l'import de modules, standards à une distribution (comme `math`, `numpy`) ou personnalisés comme ci-dessous. Des fonctionnalités d'édition sont propres à [`Ipython/Notebook`](#ipython)."
   ]
  },
  {
   "cell_type": "code",
   "execution_count": null,
   "metadata": {
    "collapsed": false
   },
   "outputs": [],
   "source": [
    "%matplotlib inline\n",
    "import numpy as np\n",
    "import matplotlib.pyplot as plt\n",
    "import time\n",
    "#\n",
    "import flowdyn.mesh  as mesh\n",
    "import flowdyn.model as model\n",
    "import flowdyn.field as data\n",
    "from flowdyn.xnum        import *\n",
    "from flowdyn.integration import *"
   ]
  },
  {
   "cell_type": "markdown",
   "metadata": {},
   "source": [
    "On cherche à résoudre l'évolution instationnaire du problème linéaire de convection suivant\n",
    "\n",
    "$$ \\frac{\\partial q}{\\partial t} + a \\frac{\\partial q}{\\partial x} = 0 $$\n",
    "\n",
    "pour la quantité transportée $q(x,t)$ et la condition intiale $q_0(x)$ sur le domaine $[0;\\ell]$ avec des conditions périodiques. On choisit $\\ell=1\\rm~m$ et $a=1\\rm~m/s$. \n",
    "\n",
    "\n",
    "## Définition des maillages, du modèle physique et solution initiales\n",
    "\n",
    "1. Discrétiser et tracer la solution initiale et la solution théorique à $t=0.6\\rm~s$\n",
    "2. Que se passe-t-il pour des grands temps d'intégration si le problème est bien périodique ?"
   ]
  },
  {
   "cell_type": "code",
   "execution_count": null,
   "metadata": {
    "collapsed": false
   },
   "outputs": [],
   "source": [
    "mesh400 = mesh.unimesh(ncell=400, length=1.)\n",
    "mesh200 = mesh.unimesh(ncell=200, length=1.)\n",
    "mesh100 = mesh.unimesh(ncell=100, length=1.)\n",
    "mesh50  = mesh.unimesh(ncell=50,  length=1.)\n",
    "\n",
    "meshs   = [ mesh400, mesh200, mesh100, mesh50 ]\n",
    "legends = [ '400 pts', '200 pts', '100 pts', '50 pts' ]\n",
    "\n",
    "mymodel = model.convmodel(1.)\n",
    "\n",
    "# sinus packet\n",
    "def init_sinpack(mesh):\n",
    "    return np.sin(2*2*np.pi/mesh.length*mesh.centers())*(1+np.sign(-(mesh.centers()/mesh.length-.25)*(mesh.centers()/mesh.length-.75)))/2        \n",
    "    \n",
    "# periodic wave\n",
    "def init_sinper(mesh):\n",
    "    k = 2 # nombre d'onde\n",
    "    return np.sin(2*k*np.pi/mesh.length*mesh.centers())\n",
    "    \n",
    "# square signal\n",
    "def init_square(mesh):\n",
    "    return (1+np.sign(-(mesh.centers()/mesh.length-.25)*(mesh.centers()/mesh.length-.75)))/2\n"
   ]
  },
  {
   "cell_type": "markdown",
   "metadata": {},
   "source": [
    "## Calcul et comparaison"
   ]
  },
  {
   "cell_type": "code",
   "execution_count": null,
   "metadata": {
    "collapsed": false
   },
   "outputs": [],
   "source": [
    "endtime = 5   # final physical time of simulation\n",
    "ntime   = 1   # number of intermediate snapshots, only 1 is recommended\n",
    "tsave   = np.linspace(0, endtime, num=ntime+1) \n",
    "\n",
    "initm   = init_sinper   # \n",
    "\n",
    "cfls    = [ .5 ]\n",
    "\n",
    "# extrapol1(), extrapol2()=extrapolk(1), centered=extrapolk(-1), extrapol3=extrapol(1./3.) \n",
    "xmeths  = [ extrapol1() ]  \n",
    "\n",
    "# explicit, rk2, rk3ssp, rk4, implicit, trapezoidal=cranknicolson\n",
    "tmeths  = [ rk4 ]\n",
    "\n",
    "solvers = []\n",
    "results = []\n",
    "errors1 = []\n",
    "errors2 = []\n",
    "nbcalc     = max(len(cfls), len(tmeths), len(xmeths), len(meshs))\n",
    "for i in range(nbcalc):\n",
    "    field0 = data.scafield(mymodel, 'p', (meshs*nbcalc)[i].ncell)\n",
    "    field0.qdata[0] = initm((meshs*nbcalc)[i])\n",
    "    solvers.append((tmeths*nbcalc)[i]((meshs*nbcalc)[i], (xmeths*nbcalc)[i]))\n",
    "    start = time.clock()\n",
    "    results.append(solvers[-1].solve(field0, (cfls*nbcalc)[i], tsave))\n",
    "    print \"> computation \"+legends[i]+\" (\",solvers[-1].nit,\"it) :\",time.clock()-start,\"s\"\n",
    "    errors1.append(sum(abs(results[i][-1].qdata[0]-results[i][0].qdata[0]))/results[i][0].nelem)\n",
    "    #print \"  L1 error :\",errors1[i]\n",
    "    #if (i>0): print \"  L1 order :\",np.log(errors1[i]/errors1[i-1])/np.log(2.)\n",
    "    # CALCUL DE L'ERREUR\n",
    "    errors2.append(np.sqrt(sum((results[i][-1].qdata[0]-results[i][0].qdata[0])**2)/results[i][0].nelem))\n",
    "    order = np.log(errors2[i]/errors2[i-1])/np.log(2.) \n",
    "    print \"  L2 error :\",errors2[i],\" and order : {:.2f}\".format(order) if (i>0) else \"\"\n",
    "\n",
    "# display results\n",
    "style=['o', 'x', 'D', '*', 'o', 'o']\n",
    "fig=plt.figure(1, figsize=(14,10))\n",
    "plt.plot(meshs[0].centers(), results[0][0].qdata[0], '-')\n",
    "labels = [\"initial condition\"]\n",
    "for t in range(1,len(tsave)):\n",
    "    for i in range(nbcalc):\n",
    "        plt.plot((meshs*nbcalc)[i].centers(), results[i][t].qdata[0], style[i])\n",
    "        labels.append(legends[i]+\", t=%.1f\"%results[i][t].time)\n",
    "plt.legend(labels, loc='upper left',prop={'size':12})  \n"
   ]
  },
  {
   "cell_type": "markdown",
   "metadata": {
    "collapsed": true
   },
   "source": [
    "---\n",
    "\n",
    "<a id=\"ipython\"></a>\n",
    "## Ipython et notebook : usage\n",
    "\n",
    "* le notebook utilise la langage de base python en version améliorée, Ipython, qui permet la complétion des noms (variables, fonctions, modules) avec la touche tabulation\n",
    "* toutes les cellules peuvent être modifiées par un double-clic et sont réinterprêtées avec `shift-entrée`\n",
    "* l'ensemble de la feuille peut être exécutée avec le menu `Cell/run all cells`\n",
    "* **n'oubliez pas de sauvegarder régulièrement votre feuille** (bouton _enregistrer_)\n"
   ]
  },
  {
   "cell_type": "code",
   "execution_count": null,
   "metadata": {
    "collapsed": false
   },
   "outputs": [],
   "source": [
    "from IPython.core.display import HTML ; HTML(open(\"./custom.css\", \"r\").read()) # notebook style"
   ]
  }
 ],
 "metadata": {
  "kernelspec": {
   "display_name": "Python 2",
   "language": "python",
   "name": "python2"
  },
  "language_info": {
   "codemirror_mode": {
    "name": "ipython",
    "version": 2
   },
   "file_extension": ".py",
   "mimetype": "text/x-python",
   "name": "python",
   "nbconvert_exporter": "python",
   "pygments_lexer": "ipython2",
   "version": "2.7.9"
  }
 },
 "nbformat": 4,
 "nbformat_minor": 2
}