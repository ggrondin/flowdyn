{
 "cells": [
  {
   "cell_type": "markdown",
   "metadata": {},
   "source": [
    "# Étude du cas de Sod (tube à choc)\n",
    "\n",
    "`Python` sera utilisé ici comme `matlab`. Des fonctionnalités supplémentaires peuvent être ajoutées par l'import de modules, standards à une distribution (comme `math`, `numpy`) ou personnalisés comme ci-dessous. Des fonctionnalités d'édition sont propres à [`Ipython/Notebook`](#ipython)."
   ]
  },
  {
   "cell_type": "code",
   "execution_count": 1,
   "metadata": {
    "collapsed": false
   },
   "outputs": [],
   "source": [
    "%matplotlib inline\n",
    "import numpy as np\n",
    "import matplotlib.pyplot as plt\n",
    "import time\n",
    "plt.rcParams['font.size'] = 14 ; plt.rcParams['axes.grid'] = True ; plt.rcParams['grid.linestyle'] = ':'\n",
    "plt.rcParams['lines.linewidth'] = 1.5 ; plt.rcParams['legend.fontsize'] = 12\n",
    "#\n",
    "import flowdyn.mesh  as mesh\n",
    "import flowdyn.modelphy.euler as euler\n",
    "import flowdyn.modeldisc      as modeldisc\n",
    "import flowdyn.field as data\n",
    "from flowdyn.xnum        import *\n",
    "from flowdyn.integration import *\n",
    "import flowdyn.solution.euler_riemann as sol\n",
    "#print plt.rcParams"
   ]
  },
  {
   "cell_type": "markdown",
   "metadata": {},
   "source": [
    "\n",
    "## Définition des maillages, du modèle physique et solution initiales\n"
   ]
  },
  {
   "cell_type": "code",
   "execution_count": 2,
   "metadata": {
    "collapsed": false
   },
   "outputs": [],
   "source": [
    "meshsim  = mesh.unimesh(ncell=200,  length=10., x0=-4.)\n",
    "meshref  = mesh.unimesh(ncell=1000, length=10., x0=-4.)\n",
    "\n",
    "model1 = euler.model()\n",
    "model2 = euler.model()\n",
    "sod   = sol.Sod_subsonic(model1) # sol.Sod_supersonic(model1) # \n",
    "\n",
    "bcL  = { 'type': 'dirichlet',  'prim':  sod.bcL() }\n",
    "bcR  = { 'type': 'dirichlet',  'prim':  sod.bcR() }\n",
    "xnum1 = muscl(minmod) # \n",
    "xnum2 = muscl(vanalbada) # \n",
    "\n",
    "rhs1 = modeldisc.fvm(model1, meshsim, xnum1, numflux='hllc', bcL=bcL, bcR=bcR)\n",
    "solver1 = rk3ssp(meshsim, rhs1)\n",
    "rhs2 = modeldisc.fvm(model2, meshsim, xnum2, numflux='hllc', bcL=bcL, bcR=bcR)\n",
    "solver2 = rk3ssp(meshsim, rhs2)\n",
    "\n",
    "bcL  = { 'type': 'dirichlet',  'prim':  sod.bcL() }\n",
    "bcR  = { 'type': 'dirichlet',  'prim':  sod.bcR() }\n"
   ]
  },
  {
   "cell_type": "code",
   "execution_count": 3,
   "metadata": {
    "collapsed": false
   },
   "outputs": [],
   "source": [
    "# computation\n",
    "#\n",
    "endtime = 2.8\n",
    "cfl     = 1.\n",
    "\n",
    "finit = sod.fdata(meshsim)\n",
    "\n",
    "fsol1 = solver1.solve(finit, cfl, [endtime])\n",
    "solver1.show_perf()\n",
    "fsol2 = solver2.solve(finit, cfl, [endtime])\n",
    "solver2.show_perf()\n",
    "\n",
    "# Figure / Plot\n",
    "\n",
    "fref = sod.fdata(meshref, endtime)\n",
    "\n",
    "for name in ['density', 'pressure', 'mach']:\n",
    "    fig = plt.figure(figsize=(10,8))\n",
    "    plt.ylabel(name)\n",
    "    plt.grid(linestyle='--', color='0.5')\n",
    "    #finit.plot(name, 'k-.')\n",
    "    fref.plot(name, 'k-')\n",
    "    fsol1[0].plot(name, 'b-')\n",
    "    fsol2[0].plot(name, 'r-')\n",
    "    fig.savefig(name+'.png', bbox_inches='tight')\n"
   ]
  },
  {
   "cell_type": "markdown",
   "metadata": {},
   "source": [
    "## Calcul et comparaison"
   ]
  },
  {
   "cell_type": "code",
   "execution_count": 4,
   "metadata": {
    "collapsed": false
   },
   "outputs": [],
   "source": [
    "from IPython.core.display import HTML ; HTML(open(\"../custom.css\", \"r\").read()) # notebook style"
   ]
  }
 ],
 "metadata": {
  "kernelspec": {
   "display_name": "Python 3",
   "language": "python",
   "name": "python3"
  },
  "language_info": {
   "codemirror_mode": {
    "name": "ipython",
    "version": 2
   },
   "file_extension": ".py",
   "mimetype": "text/x-python",
   "name": "python",
   "nbconvert_exporter": "python",
   "pygments_lexer": "ipython2",
   "version": "3.7.5-final"
  }
 },
 "nbformat": 4,
 "nbformat_minor": 2
}