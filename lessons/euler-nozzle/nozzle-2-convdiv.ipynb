{
 "cells": [
  {
   "cell_type": "code",
   "execution_count": 32,
   "metadata": {
    "collapsed": false
   },
   "outputs": [],
   "source": [
    "import time\n",
    "import matplotlib.pyplot as plt\n",
    "import numpy as np \n",
    "%matplotlib inline\n",
    "%gui\n",
    "from pyfvm.mesh  import *\n",
    "from pyfvm.field import *\n",
    "from pyfvm.xnum  import *\n",
    "from pyfvm.integration import *\n",
    "import pyfvm.modelphy.euler as euler\n",
    "import pyfvm.modeldisc      as modeldisc\n",
    "#\n",
    "plt.rcParams['figure.dpi'] = 120\n",
    "plt.rcParams['savefig.dpi'] = 120\n",
    "plt.rcParams[\"animation.html\"] = \"jshtml\"  # for matplotlib 2.1 and above, uses JavaScript\n",
    "#plt.rcParams[\"animation.html\"] = \"html5\" # for matplotlib 2.0 and below, converts to x264 using ffmpeg video codec\n",
    "#print(plt.rcParams)"
   ]
  },
  {
   "cell_type": "code",
   "execution_count": 58,
   "metadata": {
    "collapsed": false
   },
   "outputs": [],
   "source": [
    "nx = 200\n",
    "meshsim  = unimesh(ncell=nx,  length=10.)\n",
    "\n",
    "def S(x):\n",
    "    return 1.-.5*np.exp(-.5*(x-5.)**2)\n",
    "\n",
    "plt.plot(meshsim.centers(), S(meshsim.centers())) ; plt.ylim(0,1)\n",
    "\n",
    "model = euler.nozzle(sectionlaw=S)\n",
    "bcL = { 'type': 'insub',  'ptot': 1.1, 'rttot': 1. }\n",
    "bcR = { 'type': 'outsub', 'p': 1. }\n",
    "\n",
    "rhs = modeldisc.fvm(model, meshsim, muscl(vanalbada), \n",
    "      bcL=bcL, bcR=bcR)\n",
    "solver = rk3ssp(meshsim, rhs)\n",
    "\n",
    "# computation\n",
    "#\n",
    "nsol    = 100\n",
    "endtime = 20.\n",
    "cfl     = .5\n",
    "\n",
    "#finit = rhs.fdata_fromprim([  1., 0.1, 1. ]) # rho, u, p\n",
    "finit = fsol[-1] ; finit.set_time(0)\n",
    "\n",
    "fsol = solver.solve(finit, cfl, np.linspace(0., endtime, nsol+1))\n",
    "solver.show_perf()\n",
    "\n",
    "mach_th = np.sqrt(((bcL['ptot']/bcR['p'])**(1./3.5)-1.)/.2)\n",
    "print(\"theoretical Mach: {:.4f}\".format(mach_th))\n"
   ]
  },
  {
   "cell_type": "code",
   "execution_count": 59,
   "metadata": {
    "collapsed": false,
    "scrolled": false
   },
   "outputs": [],
   "source": [
    "# Figure / Plot of final results\n",
    "varname=['pressure', 'mach']\n",
    "line = varname[:]\n",
    "fig, ax = plt.subplots(1, 2, figsize=(14,6))\n",
    "for i, var in zip(range(len(varname)),varname):\n",
    "    ax[i].set_ylabel(var) ; ax[i].set_ylim(0., 1.1*np.max(fsol[-1].phydata(var)))\n",
    "    ax[i].grid(linestyle='--', color='0.5')\n",
    "    line[i], = fsol[-1].plot(var, 'k-', axes=ax[i])\n",
    "#ax2.set_ylabel('error') ; ax2.set_ylim(0.001, 1.)\n",
    "#ax2.grid(linestyle='--', color='0.5')\n",
    "#ttime = [ fsol[i].time for i in range(nsol+1) ]\n",
    "#error = [ np.sqrt(np.sum((fsol[i].phydata(varname)-mach_th)**2)/nx)/mach_th for i in range(nsol+1) ]\n",
    "#print error\n",
    "#line2, = ax2.semilogy(ttime, error)\n"
   ]
  },
  {
   "cell_type": "code",
   "execution_count": 60,
   "metadata": {
    "collapsed": false
   },
   "outputs": [],
   "source": [
    "import matplotlib.animation as anim\n",
    "#\n",
    "def animate(k):\n",
    "    #i = min(k, nsol)\n",
    "    for i, var in zip(range(len(varname)),varname):\n",
    "        fsol[k].set_plotdata(line[i], var)\n",
    "    #line2.set_data(ttime[0:k], error[0:k])\n",
    "    return line\n",
    "\n",
    "ani = anim.FuncAnimation(fig=fig, func=animate, frames=range(nsol+1), interval=100)#, blit=True)\n",
    "ani\n",
    "#from IPython.display import HTML\n",
    "#HTML(ani.to_html5_video()) # if no rcparams\n",
    "#ani.to_jshtml()\n",
    "#ani.save(\"pipo.mp4\")"
   ]
  },
  {
   "cell_type": "code",
   "execution_count": null,
   "metadata": {
    "collapsed": false
   },
   "outputs": [],
   "source": []
  }
 ],
 "metadata": {
  "kernelspec": {
   "display_name": "Python 3",
   "language": "python",
   "name": "python3"
  },
  "language_info": {
   "codemirror_mode": {
    "name": "ipython",
    "version": 3
   },
   "file_extension": ".py",
   "mimetype": "text/x-python",
   "name": "python",
   "nbconvert_exporter": "python",
   "pygments_lexer": "ipython3",
   "version": "3.9.0"
  }
 },
 "nbformat": 4,
 "nbformat_minor": 2
}