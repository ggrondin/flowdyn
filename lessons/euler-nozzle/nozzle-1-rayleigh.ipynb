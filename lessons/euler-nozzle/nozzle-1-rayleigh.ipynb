{
 "cells": [
  {
   "cell_type": "code",
   "execution_count": null,
   "metadata": {
    "collapsed": false
   },
   "outputs": [],
   "source": [
    "import time\n",
    "import matplotlib.pyplot as plt\n",
    "import numpy as np \n",
    "%matplotlib inline\n",
    "from pyfvm.mesh  import *\n",
    "from pyfvm.xnum  import *\n",
    "from pyfvm.integration import *\n",
    "import pyfvm.modelphy.euler as euler\n",
    "import pyfvm.modeldisc      as modeldisc\n",
    "import hades.aero.Isentropic as Is\n",
    "import hades.aero.MassFlow   as mf\n",
    "import hades.aero.Rayleigh   as ray\n",
    "#\n",
    "plt.rcParams['figure.dpi'] = 80\n",
    "plt.rcParams['savefig.dpi'] = 100\n",
    "#plt.rcParams[\"animation.html\"] = \"jshtml\"  # for matplotlib 2.1 and above, uses JavaScript\n",
    "plt.rcParams[\"animation.html\"] = \"html5\" # for matplotlib 2.0 and below, converts to x264 using ffmpeg video codec"
   ]
  },
  {
   "cell_type": "code",
   "execution_count": null,
   "metadata": {
    "collapsed": false
   },
   "outputs": [],
   "source": [
    "M0 = .2\n",
    "M1 = .95\n",
    "#\n",
    "rTt0 = 1.\n",
    "p1   = 1.\n",
    "Tt_ratio = ray.Ti_Ticri(M1)/ray.Ti_Ticri(M0)\n",
    "Pt_ratio = ray.Pi_Picri(M1)/ray.Pi_Picri(M0)\n",
    "NPR      = Is.PiPs_Mach(M1) / Pt_ratio\n",
    "Power    = 3.5*(Tt_ratio-1.)*rTt0*(NPR*p1/np.sqrt(rTt0)*mf.WeightMassFlow(M0))\n",
    "print(Tt_ratio, NPR, Power)"
   ]
  },
  {
   "cell_type": "code",
   "execution_count": null,
   "metadata": {
    "collapsed": false
   },
   "outputs": [],
   "source": [
    "nx = 100\n",
    "lx = 6.\n",
    "meshsim  = unimesh(ncell=nx,  length=10.)\n",
    "\n",
    "def fenergy(x, q):\n",
    "    return +Power/lx*(x>2.)*(x<2.+lx)\n",
    "\n",
    "model = euler.model(source=[None, None, fenergy])\n",
    "bcL = { 'type': 'insub',  'ptot': NPR*p1, 'rttot': rTt0 }\n",
    "bcR = { 'type': 'outsub', 'p': p1 }\n",
    "\n",
    "rhs = modeldisc.fvm(model, meshsim, muscl(vanalbada), \n",
    "      bcL=bcL, bcR=bcR)\n",
    "solver = rk3ssp(meshsim, rhs)\n",
    "\n",
    "# computation\n",
    "#\n",
    "nsol    = 100\n",
    "endtime = 100.\n",
    "cfl     = 1.\n",
    "\n",
    "finit = rhs.fdata(model.prim2cons([  1., .3, 1. ])) # rho, u, p\n",
    "\n",
    "fsol = solver.solve(finit, cfl, np.linspace(0., endtime, nsol+1))\n",
    "\n",
    "solver.show_perf()"
   ]
  },
  {
   "cell_type": "code",
   "execution_count": null,
   "metadata": {
    "collapsed": false
   },
   "outputs": [],
   "source": [
    "# Figure / Plot of final results\n",
    "varlist=['htot', 'mach', 'enthalpy']\n",
    "nvar = len(varlist)\n",
    "lines=[None]*nvar # dummy init\n",
    "fig, ax = plt.subplots(1, nvar, figsize=(5*nvar,4))\n",
    "for i in range(nvar):\n",
    "    varname = varlist[i]\n",
    "    ax[i].set_ylabel(varname) ; ax[i].set_ylim(0., 1.2*np.max(fsol[-1].phydata(varname)))\n",
    "    ax[i].grid(linestyle='--', color='0.5')\n",
    "    lines[i], = fsol[-1].plot(varname, 'k-', axes=ax[i])\n"
   ]
  },
  {
   "cell_type": "code",
   "execution_count": null,
   "metadata": {
    "collapsed": false,
    "scrolled": true
   },
   "outputs": [],
   "source": [
    "import matplotlib.animation as anim\n",
    "#\n",
    "def animate(k):\n",
    "    for i in range(nvar):\n",
    "        varname = varlist[i]\n",
    "        fsol[k].set_plotdata(lines[i], varname)\n",
    "    return lines\n",
    "\n",
    "ani = anim.FuncAnimation(fig=fig, func=animate, frames=range(nsol+1), interval=100, blit=True)\n",
    "ani\n",
    "#from IPython.display import HTML\n",
    "#HTML(ani.to_html5_video()) # if no rcparams"
   ]
  },
  {
   "cell_type": "code",
   "execution_count": null,
   "metadata": {
    "collapsed": false
   },
   "outputs": [],
   "source": [
    "from IPython.core.display import HTML ; HTML(open(\"../custom.css\", \"r\").read()) # notebook style"
   ]
  }
 ],
 "metadata": {
  "kernelspec": {
   "display_name": "Python 3",
   "language": "python",
   "name": "python3"
  },
  "language_info": {
   "codemirror_mode": {
    "name": "ipython",
    "version": 3
   },
   "file_extension": ".py",
   "mimetype": "text/x-python",
   "name": "python",
   "nbconvert_exporter": "python",
   "pygments_lexer": "ipython3",
   "version": "3.7.2"
  }
 },
 "nbformat": 4,
 "nbformat_minor": 2
}