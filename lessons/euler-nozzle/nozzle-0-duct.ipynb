{
 "cells": [
  {
   "cell_type": "code",
   "execution_count": 20,
   "metadata": {
    "collapsed": false
   },
   "outputs": [],
   "source": [
    "from IPython.core.display import HTML ; HTML(open(\"../custom.css\", \"r\").read()) # notebook style"
   ]
  },
  {
   "cell_type": "markdown",
   "metadata": {},
   "source": [
    "# Convergence to uniform flow in a duct\n",
    "\n",
    "This notebook uses `pyfvm` python package and demonstrate the convergence to a uniform flow in a duct, given inlet and outlet boundary conditions."
   ]
  },
  {
   "cell_type": "code",
   "execution_count": 21,
   "metadata": {
    "collapsed": false
   },
   "outputs": [],
   "source": [
    "import time\n",
    "import matplotlib.pyplot as plt\n",
    "import numpy as np \n",
    "%matplotlib inline\n",
    "from pyfvm.mesh  import *\n",
    "from pyfvm.field import *\n",
    "from pyfvm.xnum  import *\n",
    "from pyfvm.integration import *\n",
    "import pyfvm.modelphy.euler as euler\n",
    "import pyfvm.modeldisc      as modeldisc\n",
    "#\n",
    "plt.rcParams['figure.dpi'] = 80\n",
    "plt.rcParams['savefig.dpi'] = 100\n",
    "#plt.rcParams[\"animation.html\"] = \"jshtml\"  # for matplotlib 2.1 and above, uses JavaScript\n",
    "plt.rcParams[\"animation.html\"] = \"html5\" # for matplotlib 2.0 and below, converts to x264 using ffmpeg video codec"
   ]
  },
  {
   "cell_type": "code",
   "execution_count": 22,
   "metadata": {
    "collapsed": false
   },
   "outputs": [],
   "source": [
    "nx = 100\n",
    "meshsim  = unimesh(ncell=nx,  length=10.)\n",
    "\n",
    "model = euler.model()\n",
    "bcL = { 'type': 'insub',  'ptot': 1.4, 'rttot': 1. }\n",
    "bcR = { 'type': 'outsub', 'p': 1. }\n",
    "\n",
    "rhs = modeldisc.fvm(model, meshsim, muscl(vanalbada), \n",
    "      bcL=bcL, bcR=bcR)\n",
    "solver = rk3ssp(meshsim, rhs)\n",
    "\n",
    "# computation\n",
    "#\n",
    "nsol    = 100\n",
    "endtime = 200.\n",
    "cfl     = .5\n",
    "\n",
    "finit = rhs.fdata_fromprim([  1., 0., 1. ]) # rho, u, p\n",
    "\n",
    "fsol = solver.solve(finit, cfl, np.linspace(0., endtime, nsol+1))\n",
    "\n",
    "solver.show_perf()\n",
    "mach_th = np.sqrt(((bcL['ptot']/bcR['p'])**(1./3.5)-1.)/.2)\n",
    "print(\"theoretical Mach: {}\".format(mach_th))"
   ]
  },
  {
   "cell_type": "code",
   "execution_count": 23,
   "metadata": {
    "collapsed": false
   },
   "outputs": [],
   "source": [
    "# Figure / Plot of final results\n",
    "varname='mach'\n",
    "fig, (ax1,ax2) = plt.subplots(1, 2, figsize=(12,4))\n",
    "ax1.set_ylabel(varname) ; ax1.set_ylim(0., 1.1*np.max(fsol[-1].phydata(varname)))\n",
    "ax1.grid(linestyle='--', color='0.5')\n",
    "line1, = fsol[-1].plot(varname, 'k-', axes=ax1)\n",
    "ax2.set_ylabel('error') ; ax2.set_ylim(1e-5, 1.)\n",
    "ax2.grid(linestyle='--', color='0.5')\n",
    "ttime = [ fsol[i].time for i in range(nsol+1) ]\n",
    "error = [ np.sqrt(np.sum((fsol[i].phydata(varname)-mach_th)**2)/nx)/mach_th for i in range(nsol+1) ]\n",
    "#print error\n",
    "line2, = ax2.semilogy(ttime, error)\n"
   ]
  },
  {
   "cell_type": "code",
   "execution_count": 24,
   "metadata": {
    "collapsed": false
   },
   "outputs": [],
   "source": [
    "import matplotlib.animation as anim\n",
    "#\n",
    "def animate(k):\n",
    "    #i = min(k, nsol)\n",
    "    fsol[k].set_plotdata(line1, varname)\n",
    "    line2.set_data(ttime[0:k], error[0:k])\n",
    "    return line1, line2\n",
    "\n",
    "ani = anim.FuncAnimation(fig=fig, func=animate, frames=range(nsol+1), interval=100, blit=True)\n",
    "ani\n",
    "#from IPython.display import HTML\n",
    "#HTML(ani.to_html5_video()) # if no rcparams"
   ]
  },
  {
   "cell_type": "code",
   "execution_count": null,
   "metadata": {
    "collapsed": false
   },
   "outputs": [],
   "source": []
  }
 ],
 "metadata": {
  "kernelspec": {
   "display_name": "Python 3.7.5 64-bit",
   "metadata": {
    "interpreter": {
     "hash": "aee8b7b246df8f9039afb4144a1f6fd8d2ca17a180786b69acc140d282b71a49"
    }
   },
   "name": "Python 3.7.5 64-bit"
  },
  "language_info": {
   "codemirror_mode": {
    "name": "ipython",
    "version": 2
   },
   "file_extension": ".py",
   "mimetype": "text/x-python",
   "name": "python",
   "nbconvert_exporter": "python",
   "pygments_lexer": "ipython2",
   "version": "3.7.5-final"
  }
 },
 "nbformat": 4,
 "nbformat_minor": 2
}